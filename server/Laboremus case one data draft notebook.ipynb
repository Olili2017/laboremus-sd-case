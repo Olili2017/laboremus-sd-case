{
 "cells": [
  {
   "cell_type": "markdown",
   "metadata": {},
   "source": [
    "# Laboremus case 1 developer assignment (DANIEL OLILI)"
   ]
  },
  {
   "cell_type": "markdown",
   "metadata": {},
   "source": [
    "## IMPORT Required packages"
   ]
  },
  {
   "cell_type": "code",
   "execution_count": 1,
   "metadata": {},
   "outputs": [],
   "source": [
    "import pandas as pd"
   ]
  },
  {
   "cell_type": "code",
   "execution_count": 15,
   "metadata": {},
   "outputs": [],
   "source": [
    "data = pd.read_csv('./100000 Sales Records.csv')"
   ]
  },
  {
   "cell_type": "code",
   "execution_count": 16,
   "metadata": {},
   "outputs": [
    {
     "data": {
      "text/html": [
       "<div>\n",
       "<style scoped>\n",
       "    .dataframe tbody tr th:only-of-type {\n",
       "        vertical-align: middle;\n",
       "    }\n",
       "\n",
       "    .dataframe tbody tr th {\n",
       "        vertical-align: top;\n",
       "    }\n",
       "\n",
       "    .dataframe thead th {\n",
       "        text-align: right;\n",
       "    }\n",
       "</style>\n",
       "<table border=\"1\" class=\"dataframe\">\n",
       "  <thead>\n",
       "    <tr style=\"text-align: right;\">\n",
       "      <th></th>\n",
       "      <th>Region</th>\n",
       "      <th>Country</th>\n",
       "      <th>Item Type</th>\n",
       "      <th>Sales Channel</th>\n",
       "      <th>Order Priority</th>\n",
       "      <th>Order Date</th>\n",
       "      <th>Order ID</th>\n",
       "      <th>Ship Date</th>\n",
       "      <th>Units Sold</th>\n",
       "      <th>Unit Price</th>\n",
       "      <th>Unit Cost</th>\n",
       "      <th>Total Revenue</th>\n",
       "      <th>Total Cost</th>\n",
       "      <th>Total Profit</th>\n",
       "    </tr>\n",
       "  </thead>\n",
       "  <tbody>\n",
       "    <tr>\n",
       "      <th>0</th>\n",
       "      <td>Middle East and North Africa</td>\n",
       "      <td>Azerbaijan</td>\n",
       "      <td>Snacks</td>\n",
       "      <td>Online</td>\n",
       "      <td>C</td>\n",
       "      <td>10/8/2014</td>\n",
       "      <td>535113847</td>\n",
       "      <td>10/23/2014</td>\n",
       "      <td>934</td>\n",
       "      <td>152.58</td>\n",
       "      <td>97.44</td>\n",
       "      <td>142509.72</td>\n",
       "      <td>91008.96</td>\n",
       "      <td>51500.76</td>\n",
       "    </tr>\n",
       "    <tr>\n",
       "      <th>1</th>\n",
       "      <td>Central America and the Caribbean</td>\n",
       "      <td>Panama</td>\n",
       "      <td>Cosmetics</td>\n",
       "      <td>Offline</td>\n",
       "      <td>L</td>\n",
       "      <td>2/22/2015</td>\n",
       "      <td>874708545</td>\n",
       "      <td>2/27/2015</td>\n",
       "      <td>4551</td>\n",
       "      <td>437.20</td>\n",
       "      <td>263.33</td>\n",
       "      <td>1989697.20</td>\n",
       "      <td>1198414.83</td>\n",
       "      <td>791282.37</td>\n",
       "    </tr>\n",
       "    <tr>\n",
       "      <th>2</th>\n",
       "      <td>Sub-Saharan Africa</td>\n",
       "      <td>Sao Tome and Principe</td>\n",
       "      <td>Fruits</td>\n",
       "      <td>Offline</td>\n",
       "      <td>M</td>\n",
       "      <td>12/9/2015</td>\n",
       "      <td>854349935</td>\n",
       "      <td>1/18/2016</td>\n",
       "      <td>9986</td>\n",
       "      <td>9.33</td>\n",
       "      <td>6.92</td>\n",
       "      <td>93169.38</td>\n",
       "      <td>69103.12</td>\n",
       "      <td>24066.26</td>\n",
       "    </tr>\n",
       "    <tr>\n",
       "      <th>3</th>\n",
       "      <td>Sub-Saharan Africa</td>\n",
       "      <td>Sao Tome and Principe</td>\n",
       "      <td>Personal Care</td>\n",
       "      <td>Online</td>\n",
       "      <td>M</td>\n",
       "      <td>9/17/2014</td>\n",
       "      <td>892836844</td>\n",
       "      <td>10/12/2014</td>\n",
       "      <td>9118</td>\n",
       "      <td>81.73</td>\n",
       "      <td>56.67</td>\n",
       "      <td>745214.14</td>\n",
       "      <td>516717.06</td>\n",
       "      <td>228497.08</td>\n",
       "    </tr>\n",
       "    <tr>\n",
       "      <th>4</th>\n",
       "      <td>Central America and the Caribbean</td>\n",
       "      <td>Belize</td>\n",
       "      <td>Household</td>\n",
       "      <td>Offline</td>\n",
       "      <td>H</td>\n",
       "      <td>2/4/2010</td>\n",
       "      <td>129280602</td>\n",
       "      <td>3/5/2010</td>\n",
       "      <td>5858</td>\n",
       "      <td>668.27</td>\n",
       "      <td>502.54</td>\n",
       "      <td>3914725.66</td>\n",
       "      <td>2943879.32</td>\n",
       "      <td>970846.34</td>\n",
       "    </tr>\n",
       "  </tbody>\n",
       "</table>\n",
       "</div>"
      ],
      "text/plain": [
       "                              Region                Country      Item Type  \\\n",
       "0       Middle East and North Africa             Azerbaijan         Snacks   \n",
       "1  Central America and the Caribbean                 Panama      Cosmetics   \n",
       "2                 Sub-Saharan Africa  Sao Tome and Principe         Fruits   \n",
       "3                 Sub-Saharan Africa  Sao Tome and Principe  Personal Care   \n",
       "4  Central America and the Caribbean                 Belize      Household   \n",
       "\n",
       "  Sales Channel Order Priority Order Date   Order ID   Ship Date  Units Sold  \\\n",
       "0        Online              C  10/8/2014  535113847  10/23/2014         934   \n",
       "1       Offline              L  2/22/2015  874708545   2/27/2015        4551   \n",
       "2       Offline              M  12/9/2015  854349935   1/18/2016        9986   \n",
       "3        Online              M  9/17/2014  892836844  10/12/2014        9118   \n",
       "4       Offline              H   2/4/2010  129280602    3/5/2010        5858   \n",
       "\n",
       "   Unit Price  Unit Cost  Total Revenue  Total Cost  Total Profit  \n",
       "0      152.58      97.44      142509.72    91008.96      51500.76  \n",
       "1      437.20     263.33     1989697.20  1198414.83     791282.37  \n",
       "2        9.33       6.92       93169.38    69103.12      24066.26  \n",
       "3       81.73      56.67      745214.14   516717.06     228497.08  \n",
       "4      668.27     502.54     3914725.66  2943879.32     970846.34  "
      ]
     },
     "execution_count": 16,
     "metadata": {},
     "output_type": "execute_result"
    }
   ],
   "source": [
    "data.head()"
   ]
  },
  {
   "cell_type": "markdown",
   "metadata": {},
   "source": [
    "# Find all in given duration\n",
    "\n",
    "```Run only if metric needed for specific duration```"
   ]
  },
  {
   "cell_type": "code",
   "execution_count": 5,
   "metadata": {
    "scrolled": true
   },
   "outputs": [
    {
     "data": {
      "text/html": [
       "<div>\n",
       "<style scoped>\n",
       "    .dataframe tbody tr th:only-of-type {\n",
       "        vertical-align: middle;\n",
       "    }\n",
       "\n",
       "    .dataframe tbody tr th {\n",
       "        vertical-align: top;\n",
       "    }\n",
       "\n",
       "    .dataframe thead th {\n",
       "        text-align: right;\n",
       "    }\n",
       "</style>\n",
       "<table border=\"1\" class=\"dataframe\">\n",
       "  <thead>\n",
       "    <tr style=\"text-align: right;\">\n",
       "      <th></th>\n",
       "      <th>Region</th>\n",
       "      <th>Country</th>\n",
       "      <th>Item Type</th>\n",
       "      <th>Sales Channel</th>\n",
       "      <th>Order Priority</th>\n",
       "      <th>Order Date</th>\n",
       "      <th>Order ID</th>\n",
       "      <th>Ship Date</th>\n",
       "      <th>Units Sold</th>\n",
       "      <th>Unit Price</th>\n",
       "      <th>Unit Cost</th>\n",
       "      <th>Total Revenue</th>\n",
       "      <th>Total Cost</th>\n",
       "      <th>Total Profit</th>\n",
       "    </tr>\n",
       "  </thead>\n",
       "  <tbody>\n",
       "    <tr>\n",
       "      <th>7</th>\n",
       "      <td>Middle East and North Africa</td>\n",
       "      <td>Turkey</td>\n",
       "      <td>Fruits</td>\n",
       "      <td>Online</td>\n",
       "      <td>C</td>\n",
       "      <td>3/26/2012</td>\n",
       "      <td>772153747</td>\n",
       "      <td>4/7/2012</td>\n",
       "      <td>6307</td>\n",
       "      <td>9.33</td>\n",
       "      <td>6.92</td>\n",
       "      <td>58844.31</td>\n",
       "      <td>43644.44</td>\n",
       "      <td>15199.87</td>\n",
       "    </tr>\n",
       "    <tr>\n",
       "      <th>15</th>\n",
       "      <td>Central America and the Caribbean</td>\n",
       "      <td>Saint Kitts and Nevis</td>\n",
       "      <td>Office Supplies</td>\n",
       "      <td>Online</td>\n",
       "      <td>H</td>\n",
       "      <td>8/10/2011</td>\n",
       "      <td>563966262</td>\n",
       "      <td>8/29/2011</td>\n",
       "      <td>9004</td>\n",
       "      <td>651.21</td>\n",
       "      <td>524.96</td>\n",
       "      <td>5863494.84</td>\n",
       "      <td>4726739.84</td>\n",
       "      <td>1136755.00</td>\n",
       "    </tr>\n",
       "    <tr>\n",
       "      <th>19</th>\n",
       "      <td>Europe</td>\n",
       "      <td>Monaco</td>\n",
       "      <td>Office Supplies</td>\n",
       "      <td>Online</td>\n",
       "      <td>M</td>\n",
       "      <td>1/13/2012</td>\n",
       "      <td>982711875</td>\n",
       "      <td>1/17/2012</td>\n",
       "      <td>5137</td>\n",
       "      <td>651.21</td>\n",
       "      <td>524.96</td>\n",
       "      <td>3345265.77</td>\n",
       "      <td>2696719.52</td>\n",
       "      <td>648546.25</td>\n",
       "    </tr>\n",
       "    <tr>\n",
       "      <th>25</th>\n",
       "      <td>Middle East and North Africa</td>\n",
       "      <td>Saudi Arabia</td>\n",
       "      <td>Vegetables</td>\n",
       "      <td>Online</td>\n",
       "      <td>H</td>\n",
       "      <td>11/4/2011</td>\n",
       "      <td>529418551</td>\n",
       "      <td>11/20/2011</td>\n",
       "      <td>5569</td>\n",
       "      <td>154.06</td>\n",
       "      <td>90.93</td>\n",
       "      <td>857960.14</td>\n",
       "      <td>506389.17</td>\n",
       "      <td>351570.97</td>\n",
       "    </tr>\n",
       "    <tr>\n",
       "      <th>27</th>\n",
       "      <td>Middle East and North Africa</td>\n",
       "      <td>Tunisia</td>\n",
       "      <td>Office Supplies</td>\n",
       "      <td>Offline</td>\n",
       "      <td>L</td>\n",
       "      <td>10/28/2010</td>\n",
       "      <td>531506812</td>\n",
       "      <td>11/23/2010</td>\n",
       "      <td>3532</td>\n",
       "      <td>651.21</td>\n",
       "      <td>524.96</td>\n",
       "      <td>2300073.72</td>\n",
       "      <td>1854158.72</td>\n",
       "      <td>445915.00</td>\n",
       "    </tr>\n",
       "  </tbody>\n",
       "</table>\n",
       "</div>"
      ],
      "text/plain": [
       "                               Region                 Country  \\\n",
       "7        Middle East and North Africa                  Turkey   \n",
       "15  Central America and the Caribbean  Saint Kitts and Nevis    \n",
       "19                             Europe                  Monaco   \n",
       "25       Middle East and North Africa            Saudi Arabia   \n",
       "27       Middle East and North Africa                Tunisia    \n",
       "\n",
       "          Item Type Sales Channel Order Priority  Order Date   Order ID  \\\n",
       "7            Fruits        Online              C   3/26/2012  772153747   \n",
       "15  Office Supplies        Online              H   8/10/2011  563966262   \n",
       "19  Office Supplies        Online              M   1/13/2012  982711875   \n",
       "25       Vegetables        Online              H   11/4/2011  529418551   \n",
       "27  Office Supplies       Offline              L  10/28/2010  531506812   \n",
       "\n",
       "     Ship Date  Units Sold  Unit Price  Unit Cost  Total Revenue  Total Cost  \\\n",
       "7     4/7/2012        6307        9.33       6.92       58844.31    43644.44   \n",
       "15   8/29/2011        9004      651.21     524.96     5863494.84  4726739.84   \n",
       "19   1/17/2012        5137      651.21     524.96     3345265.77  2696719.52   \n",
       "25  11/20/2011        5569      154.06      90.93      857960.14   506389.17   \n",
       "27  11/23/2010        3532      651.21     524.96     2300073.72  1854158.72   \n",
       "\n",
       "    Total Profit  \n",
       "7       15199.87  \n",
       "15    1136755.00  \n",
       "19     648546.25  \n",
       "25     351570.97  \n",
       "27     445915.00  "
      ]
     },
     "execution_count": 5,
     "metadata": {},
     "output_type": "execute_result"
    }
   ],
   "source": [
    "data = data.loc[(pd.to_datetime(data['Order Date']) > pd.to_datetime('2010-08-23')) & (pd.to_datetime(data['Order Date']) < pd.to_datetime('2012-08-23'))]"
   ]
  },
  {
   "cell_type": "markdown",
   "metadata": {},
   "source": [
    "# Total profit"
   ]
  },
  {
   "cell_type": "code",
   "execution_count": 17,
   "metadata": {},
   "outputs": [
    {
     "data": {
      "text/plain": [
       "39409123729.61"
      ]
     },
     "execution_count": 17,
     "metadata": {},
     "output_type": "execute_result"
    }
   ],
   "source": [
    "data['Total Profit'].sum()"
   ]
  },
  {
   "cell_type": "markdown",
   "metadata": {},
   "source": [
    "# Top five profitable items"
   ]
  },
  {
   "cell_type": "code",
   "execution_count": 18,
   "metadata": {},
   "outputs": [],
   "source": [
    "item_types = data['Item Type'].unique()"
   ]
  },
  {
   "cell_type": "code",
   "execution_count": 19,
   "metadata": {},
   "outputs": [],
   "source": [
    "profitability_data = []"
   ]
  },
  {
   "cell_type": "code",
   "execution_count": 20,
   "metadata": {
    "scrolled": true,
    "tags": []
   },
   "outputs": [
    {
     "name": "stdout",
     "output_type": "stream",
     "text": [
      "Profitability for Snacks is 0.5658866995073892\n",
      "Profitability for Cosmetics is 0.6602741806858315\n",
      "Profitability for Fruits is 0.34826589595375707\n",
      "Profitability for Personal Care is 0.4422092818069525\n",
      "Profitability for Household is 0.3297846937557206\n",
      "Profitability for Clothes is 2.049107142857143\n",
      "Profitability for Vegetables is 0.6942703178268999\n",
      "Profitability for Office Supplies is 0.24049451386772328\n",
      "Profitability for Beverages is 0.4926077382824787\n",
      "Profitability for Meat is 0.15684554004771187\n",
      "Profitability for Cereal is 0.7564682776876447\n",
      "Profitability for Baby Food is 0.6013047296449628\n"
     ]
    }
   ],
   "source": [
    "for item in item_types:\n",
    "    cost = data.loc[data['Item Type'] == item]['Total Cost'].sum()\n",
    "    revenue = data.loc[data['Item Type'] == item]['Total Revenue'].sum()\n",
    "    \n",
    "    if cost is not 0:\n",
    "        profitability = (revenue - cost) / cost\n",
    "    else:\n",
    "        profitability = cost\n",
    "    \n",
    "    type_dict = { 'name': item, 'profitability': profitability }\n",
    "    profitability_data.append(type_dict)\n",
    "    \n",
    "    print('Profitability for', item, 'is', profitability)"
   ]
  },
  {
   "cell_type": "markdown",
   "metadata": {},
   "source": [
    "### Sort item by profitability"
   ]
  },
  {
   "cell_type": "code",
   "execution_count": 21,
   "metadata": {},
   "outputs": [],
   "source": [
    "profitability_data_sorted = sorted(profitability_data, key=lambda item: item['profitability'], reverse=True)"
   ]
  },
  {
   "cell_type": "markdown",
   "metadata": {},
   "source": [
    "### Get first 5 items (Top 5 most profitable items)"
   ]
  },
  {
   "cell_type": "code",
   "execution_count": 22,
   "metadata": {
    "scrolled": true
   },
   "outputs": [
    {
     "data": {
      "text/plain": [
       "[{'name': 'Clothes', 'profitability': 2.049107142857143},\n",
       " {'name': 'Cereal', 'profitability': 0.7564682776876447},\n",
       " {'name': 'Vegetables', 'profitability': 0.6942703178268999},\n",
       " {'name': 'Cosmetics', 'profitability': 0.6602741806858315},\n",
       " {'name': 'Baby Food', 'profitability': 0.6013047296449628}]"
      ]
     },
     "execution_count": 22,
     "metadata": {},
     "output_type": "execute_result"
    }
   ],
   "source": [
    "profitability_data_sorted[:5]"
   ]
  },
  {
   "cell_type": "code",
   "execution_count": null,
   "metadata": {},
   "outputs": [],
   "source": []
  }
 ],
 "metadata": {
  "kernelspec": {
   "display_name": "Python 3",
   "language": "python",
   "name": "python3"
  },
  "language_info": {
   "codemirror_mode": {
    "name": "ipython",
    "version": 3
   },
   "file_extension": ".py",
   "mimetype": "text/x-python",
   "name": "python",
   "nbconvert_exporter": "python",
   "pygments_lexer": "ipython3",
   "version": "3.7.6"
  }
 },
 "nbformat": 4,
 "nbformat_minor": 4
}
